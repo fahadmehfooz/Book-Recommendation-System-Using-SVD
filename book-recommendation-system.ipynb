{
 "cells": [
  {
   "cell_type": "code",
   "execution_count": 1,
   "metadata": {
    "_cell_guid": "b1076dfc-b9ad-4769-8c92-a6c4dae69d19",
    "_uuid": "8f2839f25d086af736a60e9eeb907d3b93b6e0e5",
    "execution": {
     "iopub.execute_input": "2021-11-02T15:44:39.821041Z",
     "iopub.status.busy": "2021-11-02T15:44:39.820408Z",
     "iopub.status.idle": "2021-11-02T15:44:39.860771Z",
     "shell.execute_reply": "2021-11-02T15:44:39.860083Z",
     "shell.execute_reply.started": "2021-11-02T15:44:39.820930Z"
    }
   },
   "outputs": [],
   "source": [
    "import numpy as np # linear algebra\n",
    "import pandas as pd # data processing, CSV file I/O (e.g. pd.read_csv)\n",
    "from scipy.sparse.linalg import svds\n",
    "from flask import Flask, render_template, request\n",
    "import pickle\n"
   ]
  },
  {
   "cell_type": "code",
   "execution_count": 2,
   "metadata": {},
   "outputs": [
    {
     "name": "stderr",
     "output_type": "stream",
     "text": [
      "C:\\Anaconda\\lib\\site-packages\\IPython\\core\\interactiveshell.py:3146: DtypeWarning: Columns (3) have mixed types.Specify dtype option on import or set low_memory=False.\n",
      "  has_raised = await self.run_ast_nodes(code_ast.body, cell_name,\n"
     ]
    }
   ],
   "source": [
    "book_df = pd.read_csv('Books.csv')\n",
    "ratings_df = pd.read_csv('Ratings.csv').sample(40000)\n",
    "user_df = pd.read_csv('Users.csv')\n",
    "\n",
    "user_rating_df = ratings_df.merge(user_df, left_on = 'User-ID', right_on = 'User-ID')\n",
    "book_user_rating = book_df.merge(user_rating_df, left_on = 'ISBN',right_on = 'ISBN')\n",
    "book_user_rating = book_user_rating[['ISBN', 'Book-Title', 'Book-Author', 'User-ID', 'Book-Rating']]\n",
    "book_user_rating.reset_index(drop=True, inplace = True)\n",
    "\n",
    "d ={}\n",
    "for i,j in enumerate(book_user_rating.ISBN.unique()):\n",
    "    d[j] =i\n",
    "book_user_rating['unique_id_book'] = book_user_rating['ISBN'].map(d)\n",
    "\n",
    "users_books_pivot_matrix_df = book_user_rating.pivot(index='User-ID', \n",
    "                                                              columns='unique_id_book', \n",
    "                                                              values='Book-Rating').fillna(0)\n",
    "users_books_pivot_matrix_df = users_books_pivot_matrix_df.values\n",
    "\n",
    "NUMBER_OF_FACTORS_MF = 15\n",
    "\n",
    "    #Performs matrix factorization of the original user item matrix\n",
    "U, sigma, Vt = svds(users_books_pivot_matrix_df, k = NUMBER_OF_FACTORS_MF)\n",
    "\n",
    "sigma = np.diag(sigma)\n",
    "all_user_predicted_ratings = np.dot(np.dot(U, sigma), Vt) \n"
   ]
  },
  {
   "cell_type": "code",
   "execution_count": 63,
   "metadata": {},
   "outputs": [],
   "source": [
    "book_user_rating.to_pickle(\"book_user_rating.pkl\")\n",
    "pickle.dump(d, open(\"d.p\", \"wb\"))  # save it into a file named save.p\n",
    "with open('Vt','wb') as f: pickle.dump(Vt, f)\n",
    "\n"
   ]
  },
  {
   "cell_type": "code",
   "execution_count": 78,
   "metadata": {
    "execution": {
     "iopub.execute_input": "2021-11-02T15:57:03.626725Z",
     "iopub.status.busy": "2021-11-02T15:57:03.626407Z",
     "iopub.status.idle": "2021-11-02T15:57:03.947528Z",
     "shell.execute_reply": "2021-11-02T15:57:03.946488Z",
     "shell.execute_reply.started": "2021-11-02T15:57:03.626694Z"
    }
   },
   "outputs": [
    {
     "name": "stdout",
     "output_type": "stream",
     "text": [
      "Recommendations for Winners, Losers &amp; Microsoft: Competition and Antitrust in High Technology: \n",
      "\n"
     ]
    },
    {
     "name": "stderr",
     "output_type": "stream",
     "text": [
      "<ipython-input-78-bada402575f6>:5: RuntimeWarning: invalid value encountered in true_divide\n",
      "  similarity = np.dot(book_row, data.T) / (magnitude[index] * magnitude)\n"
     ]
    },
    {
     "data": {
      "text/plain": [
       "['Bloody Jack: Being an Account of the Curious Adventures of Mary \\\\Jacky\\\\\" Faber, Ship\\'s Boy\"',\n",
       " 'Scottish Crofters:  A Historical Ethnography of a Celtic Village',\n",
       " 'Beneath the Skin']"
      ]
     },
     "execution_count": 78,
     "metadata": {},
     "output_type": "execute_result"
    }
   ],
   "source": [
    "def top_cosine_similarity(data, book_id, top_n=10):\n",
    "    index = book_id \n",
    "    book_row = data[index, :]\n",
    "    magnitude = np.sqrt(np.einsum('ij, ij -> i', data, data))\n",
    "    similarity = np.dot(book_row, data.T) / (magnitude[index] * magnitude)\n",
    "    sort_indexes = np.argsort(-similarity)\n",
    "    return sort_indexes[:top_n]\n",
    "\n",
    "def similar_books(book_user_rating, book_id, top_indexes):\n",
    "    l = []\n",
    "    print('Recommendations for {0}: \\n'.format(\n",
    "    book_user_rating[book_user_rating.unique_id_book == book_id]['Book-Title'].values[0]))\n",
    "    for id in top_indexes + 1:\n",
    "        l.append(book_user_rating[book_user_rating.unique_id_book == id]['Book-Title'].values[0])\n",
    "    return l\n",
    "        \n",
    "movie_id =25954  \n",
    "\n",
    "similar_books(book_user_rating, 25954, top_cosine_similarity(Vt.T[:, :50], movie_id, 3))"
   ]
  },
  {
   "cell_type": "code",
   "execution_count": 69,
   "metadata": {
    "execution": {
     "iopub.execute_input": "2021-11-02T15:59:10.801400Z",
     "iopub.status.busy": "2021-11-02T15:59:10.801084Z",
     "iopub.status.idle": "2021-11-02T15:59:31.341551Z",
     "shell.execute_reply": "2021-11-02T15:59:31.340480Z",
     "shell.execute_reply.started": "2021-11-02T15:59:10.801369Z"
    }
   },
   "outputs": [
    {
     "name": "stdout",
     "output_type": "stream",
     "text": [
      "Recommendations for Winners, Losers &amp; Microsoft: Competition and Antitrust in High Technology: \n",
      "\n",
      "Bloody Jack: Being an Account of the Curious Adventures of Mary \\Jacky\\\" Faber, Ship's Boy\"\n",
      "Scottish Crofters:  A Historical Ethnography of a Celtic Village\n",
      "Beneath the Skin\n"
     ]
    },
    {
     "name": "stderr",
     "output_type": "stream",
     "text": [
      "<ipython-input-64-21fa7d45ac8f>:5: RuntimeWarning: invalid value encountered in true_divide\n",
      "  similarity = np.dot(book_row, data.T) / (magnitude[index] * magnitude)\n"
     ]
    }
   ],
   "source": [
    "import marshal, types\n",
    "\n",
    "top_cosine_similarity_string = marshal.dumps(top_cosine_similarity.__code__)\n",
    "topsimilarity_code = marshal.loads(top_cosine_similarity_string)\n",
    "top_cosine_similarity = types.FunctionType(topsimilarity_code, globals(), \"some_func_name\")\n",
    "\n",
    "similar_books_string = marshal.dumps(similar_books.__code__)\n",
    "similar_bookg_code = marshal.loads(similar_books_string)\n",
    "similar_books = types.FunctionType(similar_bookg_code, globals(), \"some_func_name\")\n",
    "\n",
    "\n",
    "similar_books(book_user_rating, 25954, top_cosine_similarity(Vt.T[:, :50], movie_id, 3))"
   ]
  },
  {
   "cell_type": "code",
   "execution_count": 14,
   "metadata": {},
   "outputs": [
    {
     "name": "stdout",
     "output_type": "stream",
     "text": [
      " * Serving Flask app \"__main__\" (lazy loading)\n",
      " * Environment: production\n",
      "   WARNING: This is a development server. Do not use it in a production deployment.\n",
      "   Use a production WSGI server instead.\n",
      " * Debug mode: off\n"
     ]
    },
    {
     "name": "stderr",
     "output_type": "stream",
     "text": [
      " * Running on http://127.0.0.1:5000/ (Press CTRL+C to quit)\n",
      "127.0.0.1 - - [03/Nov/2021 16:58:20] \"\u001b[37mGET / HTTP/1.1\u001b[0m\" 200 -\n",
      "127.0.0.1 - - [03/Nov/2021 16:58:20] \"\u001b[33mGET /static/css/styles.css HTTP/1.1\u001b[0m\" 404 -\n",
      "<ipython-input-14-5ae48edb07d5>:17: RuntimeWarning: invalid value encountered in true_divide\n",
      "  similarity = np.dot(book_row, data.T) / (magnitude[index] * magnitude)\n",
      "127.0.0.1 - - [03/Nov/2021 16:58:27] \"\u001b[37mPOST /predict HTTP/1.1\u001b[0m\" 200 -\n",
      "127.0.0.1 - - [03/Nov/2021 16:58:27] \"\u001b[33mGET /static/css/styles.css HTTP/1.1\u001b[0m\" 404 -\n"
     ]
    },
    {
     "name": "stdout",
     "output_type": "stream",
     "text": [
      "Recommendations for Thrill: \n",
      "\n"
     ]
    }
   ],
   "source": [
    "import numpy as np # linear algebra\n",
    "import pandas as pd # data processing, CSV file I/O (e.g. pd.read_csv)\n",
    "from scipy.sparse.linalg import svds\n",
    "from flask import Flask, render_template, request\n",
    "import pickle\n",
    "\n",
    "d = pickle.load(open(\"d.p\", \"rb\"))\n",
    "with open('Vt','rb') as f: Vt = pickle.load(f)\n",
    "book_user_rating =  pickle.load(open(\"book_user_rating.pkl\", \"rb\"))\n",
    "np.seterr(divide='ignore', invalid='ignore')\n",
    "\n",
    "\n",
    "def top_cosine_similarity(data, book_id, top_n=10):\n",
    "    index = book_id \n",
    "    book_row = data[index, :]\n",
    "    magnitude = np.sqrt(np.einsum('ij, ij -> i', data, data))\n",
    "    similarity = np.dot(book_row, data.T) / (magnitude[index] * magnitude)\n",
    "    sort_indexes = np.argsort(-similarity)\n",
    "    return sort_indexes[:top_n]\n",
    "\n",
    "def similar_books(book_user_rating, book_id, top_indexes):\n",
    "    l = []\n",
    "    print('Recommendations for {0}: \\n'.format(\n",
    "    book_user_rating[book_user_rating.unique_id_book == book_id]['Book-Title'].values[0]))\n",
    "    for id in top_indexes + 1:\n",
    "        l.append(book_user_rating[book_user_rating.unique_id_book == id]['Book-Title'].values[0])\n",
    "    return l\n",
    "\n",
    "\n",
    "app = Flask(__name__)\n",
    "\n",
    "@app.route('/')\n",
    "def home():\n",
    "    return render_template('home.html')\n",
    "\n",
    "@app.route('/predict',methods=['POST'])\n",
    "def predict():\n",
    "\n",
    "    if request.method == 'POST':\n",
    "        message = request.form['message']\n",
    "        index = top_cosine_similarity(Vt.T[:, :50], int(message) , 3)\n",
    "        \n",
    "        my_prediction = similar_books(book_user_rating,int(message) ,index)\n",
    "        s= {}\n",
    "     \n",
    "        for i in range(len(my_prediction)):\n",
    "            s[i+1]= my_prediction[i]\n",
    "       \n",
    " \n",
    "\n",
    "        return render_template('result.html',prediction = s)\n",
    "\n",
    "\n",
    "\n",
    "if __name__ == '__main__':\n",
    "    app.run(debug=False)"
   ]
  },
  {
   "cell_type": "code",
   "execution_count": 4,
   "metadata": {},
   "outputs": [],
   "source": [
    "def top_cosine_similarity(data, book_id, top_n=10):\n",
    "    index = book_id \n",
    "    book_row = data[index, :]\n",
    "    magnitude = np.sqrt(np.einsum('ij, ij -> i', data, data))\n",
    "    similarity = np.dot(book_row, data.T) / (magnitude[index] * magnitude)\n",
    "    sort_indexes = np.argsort(-similarity)\n",
    "    return sort_indexes[:top_n]\n",
    "\n",
    "def similar_books(book_user_rating, book_id, top_indexes):\n",
    "    l = []\n",
    "    print('Recommendations for {0}: \\n'.format(\n",
    "    book_user_rating[book_user_rating.unique_id_book == book_id]['Book-Title'].values[0]))\n",
    "    for id in top_indexes + 1:\n",
    "        l.append(book_user_rating[book_user_rating.unique_id_book == id]['Book-Title'].values[0])\n",
    "    return l"
   ]
  },
  {
   "cell_type": "code",
   "execution_count": 8,
   "metadata": {},
   "outputs": [
    {
     "data": {
      "text/plain": [
       "array([  123,  3009, 21781], dtype=int64)"
      ]
     },
     "execution_count": 8,
     "metadata": {},
     "output_type": "execute_result"
    }
   ],
   "source": [
    "d = pickle.load(open(\"d.p\", \"rb\"))\n",
    "with open('Vt','rb') as f: Vt = pickle.load(f)\n",
    "book_user_rating =  pickle.load(open(\"book_user_rating.pkl\", \"rb\"))\n",
    "        \n",
    "def top_cosine_similarity(data, book_id, top_n=10):\n",
    "    index = book_id \n",
    "    book_row = data[index, :]\n",
    "    magnitude = np.sqrt(np.einsum('ij, ij -> i', data, data))\n",
    "    similarity = np.dot(book_row, data.T) / (magnitude[index] * magnitude)\n",
    "    sort_indexes = np.argsort(-similarity)\n",
    "    return sort_indexes[:top_n]\n",
    "\n",
    "def similar_books(book_user_rating, book_id, top_indexes):\n",
    "    l = []\n",
    "    print('Recommendations for {0}: \\n'.format(\n",
    "    book_user_rating[book_user_rating.unique_id_book == book_id]['Book-Title'].values[0]))\n",
    "    for id in top_indexes + 1:\n",
    "        l.append(book_user_rating[book_user_rating.unique_id_book == id]['Book-Title'].values[0])\n",
    "    return l\n",
    "np.seterr(divide='ignore', invalid='ignore')\n",
    "\n",
    "index = top_cosine_similarity(Vt.T[:, :50], 123, 3)\n",
    "index"
   ]
  },
  {
   "cell_type": "code",
   "execution_count": 7,
   "metadata": {},
   "outputs": [
    {
     "data": {
      "text/plain": [
       "26034"
      ]
     },
     "execution_count": 7,
     "metadata": {},
     "output_type": "execute_result"
    }
   ],
   "source": [
    "book_user_rating =  pickle.load(open(\"book_user_rating.pkl\", \"rb\"))\n",
    "max(book_user_rating['unique_id_book'].values)"
   ]
  },
  {
   "cell_type": "code",
   "execution_count": null,
   "metadata": {},
   "outputs": [
    {
     "name": "stdout",
     "output_type": "stream",
     "text": [
      " * Serving Flask app \"__main__\" (lazy loading)\n",
      " * Environment: production\n",
      "   WARNING: This is a development server. Do not use it in a production deployment.\n",
      "   Use a production WSGI server instead.\n",
      " * Debug mode: off\n"
     ]
    },
    {
     "name": "stderr",
     "output_type": "stream",
     "text": [
      " * Running on http://127.0.0.1:5000/ (Press CTRL+C to quit)\n",
      "127.0.0.1 - - [03/Nov/2021 17:00:56] \"\u001b[37mGET / HTTP/1.1\u001b[0m\" 200 -\n",
      "127.0.0.1 - - [03/Nov/2021 17:00:56] \"\u001b[33mGET /static/css/styles.css HTTP/1.1\u001b[0m\" 404 -\n",
      "<ipython-input-22-fde328550a31>:17: RuntimeWarning: invalid value encountered in true_divide\n",
      "  similarity = np.dot(book_row, data.T) / (magnitude[index] * magnitude)\n",
      "127.0.0.1 - - [03/Nov/2021 17:00:58] \"\u001b[37mPOST /predict HTTP/1.1\u001b[0m\" 200 -\n",
      "127.0.0.1 - - [03/Nov/2021 17:00:58] \"\u001b[33mGET /static/css/styles.css HTTP/1.1\u001b[0m\" 404 -\n"
     ]
    },
    {
     "name": "stdout",
     "output_type": "stream",
     "text": [
      "Recommendations for Nights Below Station Street: \n",
      "\n"
     ]
    },
    {
     "name": "stderr",
     "output_type": "stream",
     "text": [
      "127.0.0.1 - - [03/Nov/2021 17:00:59] \"\u001b[33mGET /static/css/styles.css HTTP/1.1\u001b[0m\" 404 -\n",
      "127.0.0.1 - - [03/Nov/2021 17:01:05] \"\u001b[37mPOST /predict HTTP/1.1\u001b[0m\" 200 -\n",
      "127.0.0.1 - - [03/Nov/2021 17:01:05] \"\u001b[33mGET /static/css/styles.css HTTP/1.1\u001b[0m\" 404 -\n"
     ]
    }
   ],
   "source": [
    "import numpy as np # linear algebra\n",
    "import pandas as pd # data processing, CSV file I/O (e.g. pd.read_csv)\n",
    "from scipy.sparse.linalg import svds\n",
    "from flask import Flask, render_template, request\n",
    "import pickle\n",
    "\n",
    "d = pickle.load(open(\"d.p\", \"rb\"))\n",
    "with open('Vt','rb') as f: Vt = pickle.load(f)\n",
    "book_user_rating =  pickle.load(open(\"book_user_rating.pkl\", \"rb\"))\n",
    "np.seterr(divide='ignore', invalid='ignore')\n",
    "\n",
    "\n",
    "def top_cosine_similarity(data, book_id, top_n=10):\n",
    "    index = book_id \n",
    "    book_row = data[index, :]\n",
    "    magnitude = np.sqrt(np.einsum('ij, ij -> i', data, data))\n",
    "    similarity = np.dot(book_row, data.T) / (magnitude[index] * magnitude)\n",
    "    sort_indexes = np.argsort(-similarity)\n",
    "    return sort_indexes[:top_n]\n",
    "\n",
    "def similar_books(book_user_rating, book_id, top_indexes):\n",
    "    l = []\n",
    "    print('Recommendations for {0}: \\n'.format(\n",
    "    book_user_rating[book_user_rating.unique_id_book == book_id]['Book-Title'].values[0]))\n",
    "    for id in top_indexes + 1:\n",
    "        l.append(book_user_rating[book_user_rating.unique_id_book == id]['Book-Title'].values[0])\n",
    "    return l\n",
    "\n",
    "\n",
    "app = Flask(__name__)\n",
    "\n",
    "\n",
    "\n",
    "@app.route('/')\n",
    "def home():\n",
    "    return render_template('home.html')\n",
    "\n",
    "@app.route('/predict',methods=['POST'])\n",
    "def predict():\n",
    "\n",
    "    if request.method == 'POST':\n",
    "        try:\n",
    "            message = request.form['message']       \n",
    "            index = top_cosine_similarity(Vt.T[:, :50], int(message) , 3)\n",
    "\n",
    "            my_prediction = similar_books(book_user_rating,int(message) ,index)\n",
    "            s= {}\n",
    "\n",
    "            for i in range(len(my_prediction)):\n",
    "                s[i+1]= my_prediction[i]\n",
    "                \n",
    "            return render_template('result.html',prediction = s)\n",
    "        except:\n",
    "            return render_template('result.html',prediction = {'0': 'Invalid ISBN number, enter correct ISBN please! '})\n",
    "\n",
    "if __name__ == '__main__':\n",
    "    app.run(debug=False)"
   ]
  },
  {
   "cell_type": "code",
   "execution_count": null,
   "metadata": {},
   "outputs": [],
   "source": []
  }
 ],
 "metadata": {
  "kernelspec": {
   "display_name": "Python 3",
   "language": "python",
   "name": "python3"
  },
  "language_info": {
   "codemirror_mode": {
    "name": "ipython",
    "version": 3
   },
   "file_extension": ".py",
   "mimetype": "text/x-python",
   "name": "python",
   "nbconvert_exporter": "python",
   "pygments_lexer": "ipython3",
   "version": "3.8.5"
  }
 },
 "nbformat": 4,
 "nbformat_minor": 4
}
